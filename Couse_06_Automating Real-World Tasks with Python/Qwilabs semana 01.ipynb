{
 "cells": [
  {
   "cell_type": "code",
   "execution_count": 1,
   "metadata": {},
   "outputs": [
    {
     "name": "stderr",
     "output_type": "stream",
     "text": [
      "C:\\ProgramData\\Anaconda3\\lib\\site-packages\\ipykernel_launcher.py:20: FutureWarning: Passing a negative integer is deprecated in version 1.0 and will not be supported in future version. Instead, use None to not limit the column width.\n"
     ]
    }
   ],
   "source": [
    "import pandas as pd\n",
    "import numpy as np\n",
    "import os\n",
    "import glob\n",
    "import math \n",
    "import matplotlib.pyplot as plt\n",
    "%matplotlib inline\n",
    "from scipy.stats import kendalltau\n",
    "import seaborn as sns\n",
    "from numpy.random import rand\n",
    "from numpy.random import seed\n",
    "import time\n",
    "start_time = time.time()\n",
    "\n",
    "#paquete para el problema de fecha en los archivos ok\n",
    "from datetime import datetime\n",
    "import xlrd\n",
    "\n",
    "pd.set_option('display.max_columns', None)\n",
    "pd.set_option('display.max_colwidth', -1)\n",
    "pd.set_option('display.max_rows', None)\n",
    "pd.options.display.max_seq_items = None #para ver todo df.columns\n",
    "pd.options.display.float_format = '{:.2f}'.format #para eliminar notación cientifica"
   ]
  },
  {
   "cell_type": "code",
   "execution_count": 2,
   "metadata": {},
   "outputs": [],
   "source": [
    "from PIL import Image"
   ]
  },
  {
   "cell_type": "code",
   "execution_count": 3,
   "metadata": {},
   "outputs": [
    {
     "name": "stdout",
     "output_type": "stream",
     "text": [
      "['paisaje-mc3a1gico.tif']\n"
     ]
    }
   ],
   "source": [
    "os.chdir(r'C:\\Users\\nereida.combariza\\Documents\\00_Equipo\\06_Coursera_Python\\Couse_06_Automating Real-World Tasks with Python')\n",
    "py"
   ]
  },
  {
   "cell_type": "code",
   "execution_count": 4,
   "metadata": {},
   "outputs": [
    {
     "name": "stdout",
     "output_type": "stream",
     "text": [
      "TIFF\n",
      "(1024, 768)\n"
     ]
    }
   ],
   "source": [
    "for filename in filenames:\n",
    "    img = Image.open(filename)#.resize((400,400))\n",
    "    print(img.format)\n",
    "    print(img.size)\n",
    "    #img2 = img.convert('RGB')\n",
    "    #img2.save('colors.jpg')\n",
    "    #name=filename[0:len(filename)-4]+\".jpeg\"\n",
    "    #img.save(name)\n",
    "    #img.save('image.tiff')"
   ]
  },
  {
   "cell_type": "code",
   "execution_count": 5,
   "metadata": {},
   "outputs": [
    {
     "data": {
      "text/plain": [
       "'paisaje-mc3a1gico.tif'"
      ]
     },
     "execution_count": 5,
     "metadata": {},
     "output_type": "execute_result"
    }
   ],
   "source": [
    "filename\n"
   ]
  },
  {
   "cell_type": "markdown",
   "metadata": {},
   "source": [
    "#im = Image.open(filename).resize((400,400))\n",
    "img = Image.open(filename).resize((400,400)) # (x,y) pixels\n",
    "img.convert(\"RGB\").save('myimg.jpg')\n",
    "#rgb_im = im.convert('RGB')\n",
    "#rgb_im.save('pepe.jpg')"
   ]
  },
  {
   "cell_type": "code",
   "execution_count": null,
   "metadata": {},
   "outputs": [
    {
     "name": "stdout",
     "output_type": "stream",
     "text": [
      "file : .ipynb_checkpoints\n",
      "file : paisaje-mc3a1gico.tif\n"
     ]
    }
   ],
   "source": [
    "import os, sys\n",
    "from PIL import Image\n",
    "angle = 90\n",
    "for infile in os.listdir(\"./\"):\n",
    "    print(\"file : \" + infile)\n",
    "    if infile[-3:] == \"tif\" or infile[-3:] == \"bmp\" :\n",
    "        # print \"is tif or bmp\"\n",
    "        outfile = infile[:-3] + \"jpeg\"\n",
    "        im = Image.open(infile).resize((128,128))\n",
    "        im2 = im.rotate(angle)\n",
    "        print('formato actual: ', im.format)\n",
    "        print('tamaño actual: ', im.size)  \n",
    "        print(\"new filename : \" + outfile)\n",
    "        out = im2.convert(\"RGB\")\n",
    "        out.save(outfile, \"JPEG\", quality=90)"
   ]
  },
  {
   "cell_type": "code",
   "execution_count": null,
   "metadata": {},
   "outputs": [],
   "source": [
    "#!/usr/bin/python\n",
    "#sudo apt-get install python-imaging\n",
    "import os, sys\n",
    "from PIL import Image\n",
    "angle = 90\n",
    "for infile in os.listdir(\"./\"):\n",
    "    print(\"file : \" + infile)\n",
    "    if infile[-3:] == \"tif\" or infile[-3:] == \"bmp\" :\n",
    "        # print \"is tif or bmp\"\n",
    "        outfile = infile[:-3] + \".jpeg\"\n",
    "        print(outfile)\n",
    "        im0 = Image.open(infile)\n",
    "        print(im0.format, im0.size, im0.mode)\n",
    "        im1 = im0.resize((128, 128))\n",
    "        im2 = im.rotate(angle)\n",
    "        out = im3.convert(\"RGB\")\n",
    "        print(out.format, out.size, out.mode)\n",
    "        out.save(outfile, \"JPEG\", quality=90)"
   ]
  },
  {
   "cell_type": "code",
   "execution_count": null,
   "metadata": {},
   "outputs": [],
   "source": [
    "\n",
    "#!/usr/bin/python\n",
    "import os, sys\n",
    "import glob\n",
    "from PIL import Image\n",
    "angle = 90\n",
    "\n",
    "#print(os.listdir(\"./\"))\n",
    "filenames=os.listdir(\"./\")\n",
    "filenames.pop(0)\n",
    "filenames.remove('mycode.py')\n",
    "filenames.remove('jkk')\n",
    "for infile in filenames:\n",
    "    print(\"file : \" + infile)\n",
    "    #if infile[-3:] == \"tif\" or infile[-3:] == \"bmp\" :\n",
    "    # print \"is tif or bmp\"\n",
    "    #outfile = infile[:-3] + \".jpeg\"\n",
    "    #print(outfile)\n",
    "    im0 = Image.open(infile)\n",
    "    print(im0.format, im0.size, im0.mode)\n",
    "    im1 = im0.resize((128, 128))\n",
    "    im2 = im1.rotate(angle)\n",
    "    out = im2.convert(\"RGB\")\n",
    "    print(out.format, out.size, out.mode)\n",
    "    out.save(./opt/icons/infile+\".jpg\")"
   ]
  }
 ],
 "metadata": {
  "kernelspec": {
   "display_name": "Python 3",
   "language": "python",
   "name": "python3"
  },
  "language_info": {
   "codemirror_mode": {
    "name": "ipython",
    "version": 3
   },
   "file_extension": ".py",
   "mimetype": "text/x-python",
   "name": "python",
   "nbconvert_exporter": "python",
   "pygments_lexer": "ipython3",
   "version": "3.7.6"
  }
 },
 "nbformat": 4,
 "nbformat_minor": 4
}
