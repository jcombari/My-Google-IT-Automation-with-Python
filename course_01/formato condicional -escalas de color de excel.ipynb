{
 "cells": [
  {
   "cell_type": "code",
   "execution_count": 1,
   "metadata": {},
   "outputs": [
    {
     "name": "stdout",
     "output_type": "stream",
     "text": [
      "Requirement already up-to-date: paniagua in c:\\users\\nereida.combariza\\.conda\\envs\\watson\\lib\\site-packages (0.0.7)\n"
     ]
    }
   ],
   "source": [
    "!pip install paniagua --upgrade"
   ]
  },
  {
   "cell_type": "code",
   "execution_count": 2,
   "metadata": {},
   "outputs": [],
   "source": [
    "import paniagua as pp"
   ]
  },
  {
   "cell_type": "code",
   "execution_count": 3,
   "metadata": {},
   "outputs": [
    {
     "data": {
      "text/html": [
       "<div>\n",
       "<style scoped>\n",
       "    .dataframe tbody tr th:only-of-type {\n",
       "        vertical-align: middle;\n",
       "    }\n",
       "\n",
       "    .dataframe tbody tr th {\n",
       "        vertical-align: top;\n",
       "    }\n",
       "\n",
       "    .dataframe thead th {\n",
       "        text-align: right;\n",
       "    }\n",
       "</style>\n",
       "<table border=\"1\" class=\"dataframe\">\n",
       "  <thead>\n",
       "    <tr style=\"text-align: right;\">\n",
       "      <th></th>\n",
       "      <th>sepal_length</th>\n",
       "      <th>sepal_width</th>\n",
       "      <th>petal_length</th>\n",
       "      <th>petal_width</th>\n",
       "      <th>species</th>\n",
       "    </tr>\n",
       "  </thead>\n",
       "  <tbody>\n",
       "    <tr>\n",
       "      <td>5</td>\n",
       "      <td>5.4</td>\n",
       "      <td>3.9</td>\n",
       "      <td>1.7</td>\n",
       "      <td>0.4</td>\n",
       "      <td>setosa</td>\n",
       "    </tr>\n",
       "    <tr>\n",
       "      <td>6</td>\n",
       "      <td>4.6</td>\n",
       "      <td>3.4</td>\n",
       "      <td>1.4</td>\n",
       "      <td>0.3</td>\n",
       "      <td>setosa</td>\n",
       "    </tr>\n",
       "    <tr>\n",
       "      <td>7</td>\n",
       "      <td>5.0</td>\n",
       "      <td>3.4</td>\n",
       "      <td>1.5</td>\n",
       "      <td>0.2</td>\n",
       "      <td>setosa</td>\n",
       "    </tr>\n",
       "  </tbody>\n",
       "</table>\n",
       "</div>"
      ],
      "text/plain": [
       "   sepal_length  sepal_width  petal_length  petal_width species\n",
       "5           5.4          3.9           1.7          0.4  setosa\n",
       "6           4.6          3.4           1.4          0.3  setosa\n",
       "7           5.0          3.4           1.5          0.2  setosa"
      ]
     },
     "execution_count": 3,
     "metadata": {},
     "output_type": "execute_result"
    }
   ],
   "source": [
    "import seaborn as sns\n",
    "example_df=sns.load_dataset('iris')[5:8]\n",
    "example_df"
   ]
  },
  {
   "cell_type": "code",
   "execution_count": 4,
   "metadata": {},
   "outputs": [
    {
     "data": {
      "text/html": [
       "<style  type=\"text/css\" >\n",
       "    #T_d99dabe2_b4ca_11ea_a11c_c85b76c90463row0_col0 {\n",
       "            background-color:  #006837;\n",
       "            color:  #f1f1f1;\n",
       "        }    #T_d99dabe2_b4ca_11ea_a11c_c85b76c90463row0_col1 {\n",
       "            background-color:  #9dd569;\n",
       "            color:  #000000;\n",
       "        }    #T_d99dabe2_b4ca_11ea_a11c_c85b76c90463row0_col2 {\n",
       "            background-color:  #fca55d;\n",
       "            color:  #000000;\n",
       "        }    #T_d99dabe2_b4ca_11ea_a11c_c85b76c90463row0_col3 {\n",
       "            background-color:  #b71126;\n",
       "            color:  #f1f1f1;\n",
       "        }    #T_d99dabe2_b4ca_11ea_a11c_c85b76c90463row1_col0 {\n",
       "            background-color:  #42ac5a;\n",
       "            color:  #000000;\n",
       "        }    #T_d99dabe2_b4ca_11ea_a11c_c85b76c90463row1_col1 {\n",
       "            background-color:  #d1ec86;\n",
       "            color:  #000000;\n",
       "        }    #T_d99dabe2_b4ca_11ea_a11c_c85b76c90463row1_col2 {\n",
       "            background-color:  #f7814c;\n",
       "            color:  #000000;\n",
       "        }    #T_d99dabe2_b4ca_11ea_a11c_c85b76c90463row1_col3 {\n",
       "            background-color:  #ad0826;\n",
       "            color:  #f1f1f1;\n",
       "        }    #T_d99dabe2_b4ca_11ea_a11c_c85b76c90463row2_col0 {\n",
       "            background-color:  #138c4a;\n",
       "            color:  #000000;\n",
       "        }    #T_d99dabe2_b4ca_11ea_a11c_c85b76c90463row2_col1 {\n",
       "            background-color:  #d1ec86;\n",
       "            color:  #000000;\n",
       "        }    #T_d99dabe2_b4ca_11ea_a11c_c85b76c90463row2_col2 {\n",
       "            background-color:  #f98e52;\n",
       "            color:  #000000;\n",
       "        }    #T_d99dabe2_b4ca_11ea_a11c_c85b76c90463row2_col3 {\n",
       "            background-color:  #a50026;\n",
       "            color:  #f1f1f1;\n",
       "        }</style><table id=\"T_d99dabe2_b4ca_11ea_a11c_c85b76c90463\" ><thead>    <tr>        <th class=\"blank level0\" ></th>        <th class=\"col_heading level0 col0\" >sepal_length</th>        <th class=\"col_heading level0 col1\" >sepal_width</th>        <th class=\"col_heading level0 col2\" >petal_length</th>        <th class=\"col_heading level0 col3\" >petal_width</th>        <th class=\"col_heading level0 col4\" >species</th>    </tr></thead><tbody>\n",
       "                <tr>\n",
       "                        <th id=\"T_d99dabe2_b4ca_11ea_a11c_c85b76c90463level0_row0\" class=\"row_heading level0 row0\" >5</th>\n",
       "                        <td id=\"T_d99dabe2_b4ca_11ea_a11c_c85b76c90463row0_col0\" class=\"data row0 col0\" >5.4</td>\n",
       "                        <td id=\"T_d99dabe2_b4ca_11ea_a11c_c85b76c90463row0_col1\" class=\"data row0 col1\" >3.9</td>\n",
       "                        <td id=\"T_d99dabe2_b4ca_11ea_a11c_c85b76c90463row0_col2\" class=\"data row0 col2\" >1.7</td>\n",
       "                        <td id=\"T_d99dabe2_b4ca_11ea_a11c_c85b76c90463row0_col3\" class=\"data row0 col3\" >0.4</td>\n",
       "                        <td id=\"T_d99dabe2_b4ca_11ea_a11c_c85b76c90463row0_col4\" class=\"data row0 col4\" >setosa</td>\n",
       "            </tr>\n",
       "            <tr>\n",
       "                        <th id=\"T_d99dabe2_b4ca_11ea_a11c_c85b76c90463level0_row1\" class=\"row_heading level0 row1\" >6</th>\n",
       "                        <td id=\"T_d99dabe2_b4ca_11ea_a11c_c85b76c90463row1_col0\" class=\"data row1 col0\" >4.6</td>\n",
       "                        <td id=\"T_d99dabe2_b4ca_11ea_a11c_c85b76c90463row1_col1\" class=\"data row1 col1\" >3.4</td>\n",
       "                        <td id=\"T_d99dabe2_b4ca_11ea_a11c_c85b76c90463row1_col2\" class=\"data row1 col2\" >1.4</td>\n",
       "                        <td id=\"T_d99dabe2_b4ca_11ea_a11c_c85b76c90463row1_col3\" class=\"data row1 col3\" >0.3</td>\n",
       "                        <td id=\"T_d99dabe2_b4ca_11ea_a11c_c85b76c90463row1_col4\" class=\"data row1 col4\" >setosa</td>\n",
       "            </tr>\n",
       "            <tr>\n",
       "                        <th id=\"T_d99dabe2_b4ca_11ea_a11c_c85b76c90463level0_row2\" class=\"row_heading level0 row2\" >7</th>\n",
       "                        <td id=\"T_d99dabe2_b4ca_11ea_a11c_c85b76c90463row2_col0\" class=\"data row2 col0\" >5</td>\n",
       "                        <td id=\"T_d99dabe2_b4ca_11ea_a11c_c85b76c90463row2_col1\" class=\"data row2 col1\" >3.4</td>\n",
       "                        <td id=\"T_d99dabe2_b4ca_11ea_a11c_c85b76c90463row2_col2\" class=\"data row2 col2\" >1.5</td>\n",
       "                        <td id=\"T_d99dabe2_b4ca_11ea_a11c_c85b76c90463row2_col3\" class=\"data row2 col3\" >0.2</td>\n",
       "                        <td id=\"T_d99dabe2_b4ca_11ea_a11c_c85b76c90463row2_col4\" class=\"data row2 col4\" >setosa</td>\n",
       "            </tr>\n",
       "    </tbody></table>"
      ],
      "text/plain": [
       "<pandas.io.formats.style.Styler at 0x221324db278>"
      ]
     },
     "execution_count": 4,
     "metadata": {},
     "output_type": "execute_result"
    }
   ],
   "source": [
    "pp.df_colored(example_df) #Using all values in the dataframe"
   ]
  },
  {
   "cell_type": "code",
   "execution_count": 5,
   "metadata": {},
   "outputs": [
    {
     "data": {
      "text/html": [
       "<style  type=\"text/css\" >\n",
       "    #T_d9a3e928_b4ca_11ea_998e_c85b76c90463row0_col0 {\n",
       "            background-color:  #006837;\n",
       "            color:  #f1f1f1;\n",
       "        }    #T_d9a3e928_b4ca_11ea_998e_c85b76c90463row0_col1 {\n",
       "            background-color:  #006837;\n",
       "            color:  #f1f1f1;\n",
       "        }    #T_d9a3e928_b4ca_11ea_998e_c85b76c90463row0_col2 {\n",
       "            background-color:  #006837;\n",
       "            color:  #f1f1f1;\n",
       "        }    #T_d9a3e928_b4ca_11ea_998e_c85b76c90463row0_col3 {\n",
       "            background-color:  #006837;\n",
       "            color:  #f1f1f1;\n",
       "        }    #T_d9a3e928_b4ca_11ea_998e_c85b76c90463row1_col0 {\n",
       "            background-color:  #a50026;\n",
       "            color:  #f1f1f1;\n",
       "        }    #T_d9a3e928_b4ca_11ea_998e_c85b76c90463row1_col1 {\n",
       "            background-color:  #a50026;\n",
       "            color:  #f1f1f1;\n",
       "        }    #T_d9a3e928_b4ca_11ea_998e_c85b76c90463row1_col2 {\n",
       "            background-color:  #a50026;\n",
       "            color:  #f1f1f1;\n",
       "        }    #T_d9a3e928_b4ca_11ea_998e_c85b76c90463row1_col3 {\n",
       "            background-color:  #fffebe;\n",
       "            color:  #000000;\n",
       "        }    #T_d9a3e928_b4ca_11ea_998e_c85b76c90463row2_col0 {\n",
       "            background-color:  #feffbe;\n",
       "            color:  #000000;\n",
       "        }    #T_d9a3e928_b4ca_11ea_998e_c85b76c90463row2_col1 {\n",
       "            background-color:  #a50026;\n",
       "            color:  #f1f1f1;\n",
       "        }    #T_d9a3e928_b4ca_11ea_998e_c85b76c90463row2_col2 {\n",
       "            background-color:  #fdbf6f;\n",
       "            color:  #000000;\n",
       "        }    #T_d9a3e928_b4ca_11ea_998e_c85b76c90463row2_col3 {\n",
       "            background-color:  #a50026;\n",
       "            color:  #f1f1f1;\n",
       "        }</style><table id=\"T_d9a3e928_b4ca_11ea_998e_c85b76c90463\" ><thead>    <tr>        <th class=\"blank level0\" ></th>        <th class=\"col_heading level0 col0\" >sepal_length</th>        <th class=\"col_heading level0 col1\" >sepal_width</th>        <th class=\"col_heading level0 col2\" >petal_length</th>        <th class=\"col_heading level0 col3\" >petal_width</th>        <th class=\"col_heading level0 col4\" >species</th>    </tr></thead><tbody>\n",
       "                <tr>\n",
       "                        <th id=\"T_d9a3e928_b4ca_11ea_998e_c85b76c90463level0_row0\" class=\"row_heading level0 row0\" >5</th>\n",
       "                        <td id=\"T_d9a3e928_b4ca_11ea_998e_c85b76c90463row0_col0\" class=\"data row0 col0\" >5.4</td>\n",
       "                        <td id=\"T_d9a3e928_b4ca_11ea_998e_c85b76c90463row0_col1\" class=\"data row0 col1\" >3.9</td>\n",
       "                        <td id=\"T_d9a3e928_b4ca_11ea_998e_c85b76c90463row0_col2\" class=\"data row0 col2\" >1.7</td>\n",
       "                        <td id=\"T_d9a3e928_b4ca_11ea_998e_c85b76c90463row0_col3\" class=\"data row0 col3\" >0.4</td>\n",
       "                        <td id=\"T_d9a3e928_b4ca_11ea_998e_c85b76c90463row0_col4\" class=\"data row0 col4\" >setosa</td>\n",
       "            </tr>\n",
       "            <tr>\n",
       "                        <th id=\"T_d9a3e928_b4ca_11ea_998e_c85b76c90463level0_row1\" class=\"row_heading level0 row1\" >6</th>\n",
       "                        <td id=\"T_d9a3e928_b4ca_11ea_998e_c85b76c90463row1_col0\" class=\"data row1 col0\" >4.6</td>\n",
       "                        <td id=\"T_d9a3e928_b4ca_11ea_998e_c85b76c90463row1_col1\" class=\"data row1 col1\" >3.4</td>\n",
       "                        <td id=\"T_d9a3e928_b4ca_11ea_998e_c85b76c90463row1_col2\" class=\"data row1 col2\" >1.4</td>\n",
       "                        <td id=\"T_d9a3e928_b4ca_11ea_998e_c85b76c90463row1_col3\" class=\"data row1 col3\" >0.3</td>\n",
       "                        <td id=\"T_d9a3e928_b4ca_11ea_998e_c85b76c90463row1_col4\" class=\"data row1 col4\" >setosa</td>\n",
       "            </tr>\n",
       "            <tr>\n",
       "                        <th id=\"T_d9a3e928_b4ca_11ea_998e_c85b76c90463level0_row2\" class=\"row_heading level0 row2\" >7</th>\n",
       "                        <td id=\"T_d9a3e928_b4ca_11ea_998e_c85b76c90463row2_col0\" class=\"data row2 col0\" >5</td>\n",
       "                        <td id=\"T_d9a3e928_b4ca_11ea_998e_c85b76c90463row2_col1\" class=\"data row2 col1\" >3.4</td>\n",
       "                        <td id=\"T_d9a3e928_b4ca_11ea_998e_c85b76c90463row2_col2\" class=\"data row2 col2\" >1.5</td>\n",
       "                        <td id=\"T_d9a3e928_b4ca_11ea_998e_c85b76c90463row2_col3\" class=\"data row2 col3\" >0.2</td>\n",
       "                        <td id=\"T_d9a3e928_b4ca_11ea_998e_c85b76c90463row2_col4\" class=\"data row2 col4\" >setosa</td>\n",
       "            </tr>\n",
       "    </tbody></table>"
      ],
      "text/plain": [
       "<pandas.io.formats.style.Styler at 0x2213f8fc978>"
      ]
     },
     "execution_count": 5,
     "metadata": {},
     "output_type": "execute_result"
    }
   ],
   "source": [
    "pp.df_colored(example_df, axis=0) #by column"
   ]
  },
  {
   "cell_type": "code",
   "execution_count": 6,
   "metadata": {},
   "outputs": [
    {
     "data": {
      "text/html": [
       "<style  type=\"text/css\" >\n",
       "    #T_d9bd9414_b4ca_11ea_a24c_c85b76c90463row0_col0 {\n",
       "            background-color:  #006837;\n",
       "            color:  #f1f1f1;\n",
       "        }    #T_d9bd9414_b4ca_11ea_a24c_c85b76c90463row0_col1 {\n",
       "            background-color:  #006837;\n",
       "            color:  #f1f1f1;\n",
       "        }    #T_d9bd9414_b4ca_11ea_a24c_c85b76c90463row0_col2 {\n",
       "            background-color:  #006837;\n",
       "            color:  #f1f1f1;\n",
       "        }    #T_d9bd9414_b4ca_11ea_a24c_c85b76c90463row0_col3 {\n",
       "            background-color:  #006837;\n",
       "            color:  #f1f1f1;\n",
       "        }    #T_d9bd9414_b4ca_11ea_a24c_c85b76c90463row1_col0 {\n",
       "            background-color:  #a50026;\n",
       "            color:  #f1f1f1;\n",
       "        }    #T_d9bd9414_b4ca_11ea_a24c_c85b76c90463row1_col1 {\n",
       "            background-color:  #a50026;\n",
       "            color:  #f1f1f1;\n",
       "        }    #T_d9bd9414_b4ca_11ea_a24c_c85b76c90463row1_col2 {\n",
       "            background-color:  #a50026;\n",
       "            color:  #f1f1f1;\n",
       "        }    #T_d9bd9414_b4ca_11ea_a24c_c85b76c90463row1_col3 {\n",
       "            background-color:  #fffebe;\n",
       "            color:  #000000;\n",
       "        }    #T_d9bd9414_b4ca_11ea_a24c_c85b76c90463row2_col0 {\n",
       "            background-color:  #feffbe;\n",
       "            color:  #000000;\n",
       "        }    #T_d9bd9414_b4ca_11ea_a24c_c85b76c90463row2_col1 {\n",
       "            background-color:  #a50026;\n",
       "            color:  #f1f1f1;\n",
       "        }    #T_d9bd9414_b4ca_11ea_a24c_c85b76c90463row2_col2 {\n",
       "            background-color:  #fdbf6f;\n",
       "            color:  #000000;\n",
       "        }    #T_d9bd9414_b4ca_11ea_a24c_c85b76c90463row2_col3 {\n",
       "            background-color:  #a50026;\n",
       "            color:  #f1f1f1;\n",
       "        }</style><table id=\"T_d9bd9414_b4ca_11ea_a24c_c85b76c90463\" ><thead>    <tr>        <th class=\"blank level0\" ></th>        <th class=\"col_heading level0 col0\" >sepal_length</th>        <th class=\"col_heading level0 col1\" >sepal_width</th>        <th class=\"col_heading level0 col2\" >petal_length</th>        <th class=\"col_heading level0 col3\" >petal_width</th>        <th class=\"col_heading level0 col4\" >species</th>    </tr></thead><tbody>\n",
       "                <tr>\n",
       "                        <th id=\"T_d9bd9414_b4ca_11ea_a24c_c85b76c90463level0_row0\" class=\"row_heading level0 row0\" >5</th>\n",
       "                        <td id=\"T_d9bd9414_b4ca_11ea_a24c_c85b76c90463row0_col0\" class=\"data row0 col0\" >5.4</td>\n",
       "                        <td id=\"T_d9bd9414_b4ca_11ea_a24c_c85b76c90463row0_col1\" class=\"data row0 col1\" >3.9</td>\n",
       "                        <td id=\"T_d9bd9414_b4ca_11ea_a24c_c85b76c90463row0_col2\" class=\"data row0 col2\" >1.7</td>\n",
       "                        <td id=\"T_d9bd9414_b4ca_11ea_a24c_c85b76c90463row0_col3\" class=\"data row0 col3\" >0.4</td>\n",
       "                        <td id=\"T_d9bd9414_b4ca_11ea_a24c_c85b76c90463row0_col4\" class=\"data row0 col4\" >setosa</td>\n",
       "            </tr>\n",
       "            <tr>\n",
       "                        <th id=\"T_d9bd9414_b4ca_11ea_a24c_c85b76c90463level0_row1\" class=\"row_heading level0 row1\" >6</th>\n",
       "                        <td id=\"T_d9bd9414_b4ca_11ea_a24c_c85b76c90463row1_col0\" class=\"data row1 col0\" >4.6</td>\n",
       "                        <td id=\"T_d9bd9414_b4ca_11ea_a24c_c85b76c90463row1_col1\" class=\"data row1 col1\" >3.4</td>\n",
       "                        <td id=\"T_d9bd9414_b4ca_11ea_a24c_c85b76c90463row1_col2\" class=\"data row1 col2\" >1.4</td>\n",
       "                        <td id=\"T_d9bd9414_b4ca_11ea_a24c_c85b76c90463row1_col3\" class=\"data row1 col3\" >0.3</td>\n",
       "                        <td id=\"T_d9bd9414_b4ca_11ea_a24c_c85b76c90463row1_col4\" class=\"data row1 col4\" >setosa</td>\n",
       "            </tr>\n",
       "            <tr>\n",
       "                        <th id=\"T_d9bd9414_b4ca_11ea_a24c_c85b76c90463level0_row2\" class=\"row_heading level0 row2\" >7</th>\n",
       "                        <td id=\"T_d9bd9414_b4ca_11ea_a24c_c85b76c90463row2_col0\" class=\"data row2 col0\" >5</td>\n",
       "                        <td id=\"T_d9bd9414_b4ca_11ea_a24c_c85b76c90463row2_col1\" class=\"data row2 col1\" >3.4</td>\n",
       "                        <td id=\"T_d9bd9414_b4ca_11ea_a24c_c85b76c90463row2_col2\" class=\"data row2 col2\" >1.5</td>\n",
       "                        <td id=\"T_d9bd9414_b4ca_11ea_a24c_c85b76c90463row2_col3\" class=\"data row2 col3\" >0.2</td>\n",
       "                        <td id=\"T_d9bd9414_b4ca_11ea_a24c_c85b76c90463row2_col4\" class=\"data row2 col4\" >setosa</td>\n",
       "            </tr>\n",
       "    </tbody></table>"
      ],
      "text/plain": [
       "<pandas.io.formats.style.Styler at 0x2213f90bcf8>"
      ]
     },
     "execution_count": 6,
     "metadata": {},
     "output_type": "execute_result"
    }
   ],
   "source": [
    "pp.df_colored(example_df, axis=0) #by row"
   ]
  },
  {
   "cell_type": "markdown",
   "metadata": {},
   "source": [
    "# Intercambiando la escala"
   ]
  },
  {
   "cell_type": "code",
   "execution_count": 7,
   "metadata": {},
   "outputs": [
    {
     "data": {
      "text/html": [
       "<style  type=\"text/css\" >\n",
       "    #T_d9db2ccc_b4ca_11ea_a37f_c85b76c90463row0_col0 {\n",
       "            background-color:  #a50026;\n",
       "            color:  #f1f1f1;\n",
       "        }    #T_d9db2ccc_b4ca_11ea_a37f_c85b76c90463row0_col1 {\n",
       "            background-color:  #fca55d;\n",
       "            color:  #000000;\n",
       "        }    #T_d9db2ccc_b4ca_11ea_a37f_c85b76c90463row0_col2 {\n",
       "            background-color:  #9dd569;\n",
       "            color:  #000000;\n",
       "        }    #T_d9db2ccc_b4ca_11ea_a37f_c85b76c90463row0_col3 {\n",
       "            background-color:  #097940;\n",
       "            color:  #f1f1f1;\n",
       "        }    #T_d9db2ccc_b4ca_11ea_a37f_c85b76c90463row1_col0 {\n",
       "            background-color:  #e65036;\n",
       "            color:  #000000;\n",
       "        }    #T_d9db2ccc_b4ca_11ea_a37f_c85b76c90463row1_col1 {\n",
       "            background-color:  #fed884;\n",
       "            color:  #000000;\n",
       "        }    #T_d9db2ccc_b4ca_11ea_a37f_c85b76c90463row1_col2 {\n",
       "            background-color:  #7ac665;\n",
       "            color:  #000000;\n",
       "        }    #T_d9db2ccc_b4ca_11ea_a37f_c85b76c90463row1_col3 {\n",
       "            background-color:  #04703b;\n",
       "            color:  #f1f1f1;\n",
       "        }    #T_d9db2ccc_b4ca_11ea_a37f_c85b76c90463row2_col0 {\n",
       "            background-color:  #ca2427;\n",
       "            color:  #f1f1f1;\n",
       "        }    #T_d9db2ccc_b4ca_11ea_a37f_c85b76c90463row2_col1 {\n",
       "            background-color:  #fed884;\n",
       "            color:  #000000;\n",
       "        }    #T_d9db2ccc_b4ca_11ea_a37f_c85b76c90463row2_col2 {\n",
       "            background-color:  #87cb67;\n",
       "            color:  #000000;\n",
       "        }    #T_d9db2ccc_b4ca_11ea_a37f_c85b76c90463row2_col3 {\n",
       "            background-color:  #006837;\n",
       "            color:  #f1f1f1;\n",
       "        }</style><table id=\"T_d9db2ccc_b4ca_11ea_a37f_c85b76c90463\" ><thead>    <tr>        <th class=\"blank level0\" ></th>        <th class=\"col_heading level0 col0\" >sepal_length</th>        <th class=\"col_heading level0 col1\" >sepal_width</th>        <th class=\"col_heading level0 col2\" >petal_length</th>        <th class=\"col_heading level0 col3\" >petal_width</th>        <th class=\"col_heading level0 col4\" >species</th>    </tr></thead><tbody>\n",
       "                <tr>\n",
       "                        <th id=\"T_d9db2ccc_b4ca_11ea_a37f_c85b76c90463level0_row0\" class=\"row_heading level0 row0\" >5</th>\n",
       "                        <td id=\"T_d9db2ccc_b4ca_11ea_a37f_c85b76c90463row0_col0\" class=\"data row0 col0\" >5.4</td>\n",
       "                        <td id=\"T_d9db2ccc_b4ca_11ea_a37f_c85b76c90463row0_col1\" class=\"data row0 col1\" >3.9</td>\n",
       "                        <td id=\"T_d9db2ccc_b4ca_11ea_a37f_c85b76c90463row0_col2\" class=\"data row0 col2\" >1.7</td>\n",
       "                        <td id=\"T_d9db2ccc_b4ca_11ea_a37f_c85b76c90463row0_col3\" class=\"data row0 col3\" >0.4</td>\n",
       "                        <td id=\"T_d9db2ccc_b4ca_11ea_a37f_c85b76c90463row0_col4\" class=\"data row0 col4\" >setosa</td>\n",
       "            </tr>\n",
       "            <tr>\n",
       "                        <th id=\"T_d9db2ccc_b4ca_11ea_a37f_c85b76c90463level0_row1\" class=\"row_heading level0 row1\" >6</th>\n",
       "                        <td id=\"T_d9db2ccc_b4ca_11ea_a37f_c85b76c90463row1_col0\" class=\"data row1 col0\" >4.6</td>\n",
       "                        <td id=\"T_d9db2ccc_b4ca_11ea_a37f_c85b76c90463row1_col1\" class=\"data row1 col1\" >3.4</td>\n",
       "                        <td id=\"T_d9db2ccc_b4ca_11ea_a37f_c85b76c90463row1_col2\" class=\"data row1 col2\" >1.4</td>\n",
       "                        <td id=\"T_d9db2ccc_b4ca_11ea_a37f_c85b76c90463row1_col3\" class=\"data row1 col3\" >0.3</td>\n",
       "                        <td id=\"T_d9db2ccc_b4ca_11ea_a37f_c85b76c90463row1_col4\" class=\"data row1 col4\" >setosa</td>\n",
       "            </tr>\n",
       "            <tr>\n",
       "                        <th id=\"T_d9db2ccc_b4ca_11ea_a37f_c85b76c90463level0_row2\" class=\"row_heading level0 row2\" >7</th>\n",
       "                        <td id=\"T_d9db2ccc_b4ca_11ea_a37f_c85b76c90463row2_col0\" class=\"data row2 col0\" >5</td>\n",
       "                        <td id=\"T_d9db2ccc_b4ca_11ea_a37f_c85b76c90463row2_col1\" class=\"data row2 col1\" >3.4</td>\n",
       "                        <td id=\"T_d9db2ccc_b4ca_11ea_a37f_c85b76c90463row2_col2\" class=\"data row2 col2\" >1.5</td>\n",
       "                        <td id=\"T_d9db2ccc_b4ca_11ea_a37f_c85b76c90463row2_col3\" class=\"data row2 col3\" >0.2</td>\n",
       "                        <td id=\"T_d9db2ccc_b4ca_11ea_a37f_c85b76c90463row2_col4\" class=\"data row2 col4\" >setosa</td>\n",
       "            </tr>\n",
       "    </tbody></table>"
      ],
      "text/plain": [
       "<pandas.io.formats.style.Styler at 0x2213f90ba90>"
      ]
     },
     "execution_count": 7,
     "metadata": {},
     "output_type": "execute_result"
    }
   ],
   "source": [
    "pp.df_colored(example_df,  reversed = True) #Using all values in the dataframe"
   ]
  },
  {
   "cell_type": "code",
   "execution_count": 8,
   "metadata": {},
   "outputs": [
    {
     "data": {
      "text/html": [
       "<style  type=\"text/css\" >\n",
       "    #T_d9efde64_b4ca_11ea_9e0b_c85b76c90463row0_col0 {\n",
       "            background-color:  #a50026;\n",
       "            color:  #f1f1f1;\n",
       "        }    #T_d9efde64_b4ca_11ea_9e0b_c85b76c90463row0_col1 {\n",
       "            background-color:  #a50026;\n",
       "            color:  #f1f1f1;\n",
       "        }    #T_d9efde64_b4ca_11ea_9e0b_c85b76c90463row0_col2 {\n",
       "            background-color:  #a50026;\n",
       "            color:  #f1f1f1;\n",
       "        }    #T_d9efde64_b4ca_11ea_9e0b_c85b76c90463row0_col3 {\n",
       "            background-color:  #a50026;\n",
       "            color:  #f1f1f1;\n",
       "        }    #T_d9efde64_b4ca_11ea_9e0b_c85b76c90463row1_col0 {\n",
       "            background-color:  #006837;\n",
       "            color:  #f1f1f1;\n",
       "        }    #T_d9efde64_b4ca_11ea_9e0b_c85b76c90463row1_col1 {\n",
       "            background-color:  #006837;\n",
       "            color:  #f1f1f1;\n",
       "        }    #T_d9efde64_b4ca_11ea_9e0b_c85b76c90463row1_col2 {\n",
       "            background-color:  #006837;\n",
       "            color:  #f1f1f1;\n",
       "        }    #T_d9efde64_b4ca_11ea_9e0b_c85b76c90463row1_col3 {\n",
       "            background-color:  #feffbe;\n",
       "            color:  #000000;\n",
       "        }    #T_d9efde64_b4ca_11ea_9e0b_c85b76c90463row2_col0 {\n",
       "            background-color:  #fffebe;\n",
       "            color:  #000000;\n",
       "        }    #T_d9efde64_b4ca_11ea_9e0b_c85b76c90463row2_col1 {\n",
       "            background-color:  #006837;\n",
       "            color:  #f1f1f1;\n",
       "        }    #T_d9efde64_b4ca_11ea_9e0b_c85b76c90463row2_col2 {\n",
       "            background-color:  #b7e075;\n",
       "            color:  #000000;\n",
       "        }    #T_d9efde64_b4ca_11ea_9e0b_c85b76c90463row2_col3 {\n",
       "            background-color:  #006837;\n",
       "            color:  #f1f1f1;\n",
       "        }</style><table id=\"T_d9efde64_b4ca_11ea_9e0b_c85b76c90463\" ><thead>    <tr>        <th class=\"blank level0\" ></th>        <th class=\"col_heading level0 col0\" >sepal_length</th>        <th class=\"col_heading level0 col1\" >sepal_width</th>        <th class=\"col_heading level0 col2\" >petal_length</th>        <th class=\"col_heading level0 col3\" >petal_width</th>        <th class=\"col_heading level0 col4\" >species</th>    </tr></thead><tbody>\n",
       "                <tr>\n",
       "                        <th id=\"T_d9efde64_b4ca_11ea_9e0b_c85b76c90463level0_row0\" class=\"row_heading level0 row0\" >5</th>\n",
       "                        <td id=\"T_d9efde64_b4ca_11ea_9e0b_c85b76c90463row0_col0\" class=\"data row0 col0\" >5.4</td>\n",
       "                        <td id=\"T_d9efde64_b4ca_11ea_9e0b_c85b76c90463row0_col1\" class=\"data row0 col1\" >3.9</td>\n",
       "                        <td id=\"T_d9efde64_b4ca_11ea_9e0b_c85b76c90463row0_col2\" class=\"data row0 col2\" >1.7</td>\n",
       "                        <td id=\"T_d9efde64_b4ca_11ea_9e0b_c85b76c90463row0_col3\" class=\"data row0 col3\" >0.4</td>\n",
       "                        <td id=\"T_d9efde64_b4ca_11ea_9e0b_c85b76c90463row0_col4\" class=\"data row0 col4\" >setosa</td>\n",
       "            </tr>\n",
       "            <tr>\n",
       "                        <th id=\"T_d9efde64_b4ca_11ea_9e0b_c85b76c90463level0_row1\" class=\"row_heading level0 row1\" >6</th>\n",
       "                        <td id=\"T_d9efde64_b4ca_11ea_9e0b_c85b76c90463row1_col0\" class=\"data row1 col0\" >4.6</td>\n",
       "                        <td id=\"T_d9efde64_b4ca_11ea_9e0b_c85b76c90463row1_col1\" class=\"data row1 col1\" >3.4</td>\n",
       "                        <td id=\"T_d9efde64_b4ca_11ea_9e0b_c85b76c90463row1_col2\" class=\"data row1 col2\" >1.4</td>\n",
       "                        <td id=\"T_d9efde64_b4ca_11ea_9e0b_c85b76c90463row1_col3\" class=\"data row1 col3\" >0.3</td>\n",
       "                        <td id=\"T_d9efde64_b4ca_11ea_9e0b_c85b76c90463row1_col4\" class=\"data row1 col4\" >setosa</td>\n",
       "            </tr>\n",
       "            <tr>\n",
       "                        <th id=\"T_d9efde64_b4ca_11ea_9e0b_c85b76c90463level0_row2\" class=\"row_heading level0 row2\" >7</th>\n",
       "                        <td id=\"T_d9efde64_b4ca_11ea_9e0b_c85b76c90463row2_col0\" class=\"data row2 col0\" >5</td>\n",
       "                        <td id=\"T_d9efde64_b4ca_11ea_9e0b_c85b76c90463row2_col1\" class=\"data row2 col1\" >3.4</td>\n",
       "                        <td id=\"T_d9efde64_b4ca_11ea_9e0b_c85b76c90463row2_col2\" class=\"data row2 col2\" >1.5</td>\n",
       "                        <td id=\"T_d9efde64_b4ca_11ea_9e0b_c85b76c90463row2_col3\" class=\"data row2 col3\" >0.2</td>\n",
       "                        <td id=\"T_d9efde64_b4ca_11ea_9e0b_c85b76c90463row2_col4\" class=\"data row2 col4\" >setosa</td>\n",
       "            </tr>\n",
       "    </tbody></table>"
      ],
      "text/plain": [
       "<pandas.io.formats.style.Styler at 0x2213f90bfd0>"
      ]
     },
     "execution_count": 8,
     "metadata": {},
     "output_type": "execute_result"
    }
   ],
   "source": [
    "pp.df_colored(example_df, axis=0,  reversed = True) #by column"
   ]
  },
  {
   "cell_type": "code",
   "execution_count": 9,
   "metadata": {},
   "outputs": [
    {
     "data": {
      "text/html": [
       "<style  type=\"text/css\" >\n",
       "    #T_da134082_b4ca_11ea_a488_c85b76c90463row0_col0 {\n",
       "            background-color:  #006837;\n",
       "            color:  #f1f1f1;\n",
       "        }    #T_da134082_b4ca_11ea_a488_c85b76c90463row0_col1 {\n",
       "            background-color:  #006837;\n",
       "            color:  #f1f1f1;\n",
       "        }    #T_da134082_b4ca_11ea_a488_c85b76c90463row0_col2 {\n",
       "            background-color:  #006837;\n",
       "            color:  #f1f1f1;\n",
       "        }    #T_da134082_b4ca_11ea_a488_c85b76c90463row0_col3 {\n",
       "            background-color:  #006837;\n",
       "            color:  #f1f1f1;\n",
       "        }    #T_da134082_b4ca_11ea_a488_c85b76c90463row1_col0 {\n",
       "            background-color:  #a50026;\n",
       "            color:  #f1f1f1;\n",
       "        }    #T_da134082_b4ca_11ea_a488_c85b76c90463row1_col1 {\n",
       "            background-color:  #a50026;\n",
       "            color:  #f1f1f1;\n",
       "        }    #T_da134082_b4ca_11ea_a488_c85b76c90463row1_col2 {\n",
       "            background-color:  #a50026;\n",
       "            color:  #f1f1f1;\n",
       "        }    #T_da134082_b4ca_11ea_a488_c85b76c90463row1_col3 {\n",
       "            background-color:  #fffebe;\n",
       "            color:  #000000;\n",
       "        }    #T_da134082_b4ca_11ea_a488_c85b76c90463row2_col0 {\n",
       "            background-color:  #feffbe;\n",
       "            color:  #000000;\n",
       "        }    #T_da134082_b4ca_11ea_a488_c85b76c90463row2_col1 {\n",
       "            background-color:  #a50026;\n",
       "            color:  #f1f1f1;\n",
       "        }    #T_da134082_b4ca_11ea_a488_c85b76c90463row2_col2 {\n",
       "            background-color:  #fdbf6f;\n",
       "            color:  #000000;\n",
       "        }    #T_da134082_b4ca_11ea_a488_c85b76c90463row2_col3 {\n",
       "            background-color:  #a50026;\n",
       "            color:  #f1f1f1;\n",
       "        }</style><table id=\"T_da134082_b4ca_11ea_a488_c85b76c90463\" ><thead>    <tr>        <th class=\"blank level0\" ></th>        <th class=\"col_heading level0 col0\" >sepal_length</th>        <th class=\"col_heading level0 col1\" >sepal_width</th>        <th class=\"col_heading level0 col2\" >petal_length</th>        <th class=\"col_heading level0 col3\" >petal_width</th>        <th class=\"col_heading level0 col4\" >species</th>    </tr></thead><tbody>\n",
       "                <tr>\n",
       "                        <th id=\"T_da134082_b4ca_11ea_a488_c85b76c90463level0_row0\" class=\"row_heading level0 row0\" >5</th>\n",
       "                        <td id=\"T_da134082_b4ca_11ea_a488_c85b76c90463row0_col0\" class=\"data row0 col0\" >5.4</td>\n",
       "                        <td id=\"T_da134082_b4ca_11ea_a488_c85b76c90463row0_col1\" class=\"data row0 col1\" >3.9</td>\n",
       "                        <td id=\"T_da134082_b4ca_11ea_a488_c85b76c90463row0_col2\" class=\"data row0 col2\" >1.7</td>\n",
       "                        <td id=\"T_da134082_b4ca_11ea_a488_c85b76c90463row0_col3\" class=\"data row0 col3\" >0.4</td>\n",
       "                        <td id=\"T_da134082_b4ca_11ea_a488_c85b76c90463row0_col4\" class=\"data row0 col4\" >setosa</td>\n",
       "            </tr>\n",
       "            <tr>\n",
       "                        <th id=\"T_da134082_b4ca_11ea_a488_c85b76c90463level0_row1\" class=\"row_heading level0 row1\" >6</th>\n",
       "                        <td id=\"T_da134082_b4ca_11ea_a488_c85b76c90463row1_col0\" class=\"data row1 col0\" >4.6</td>\n",
       "                        <td id=\"T_da134082_b4ca_11ea_a488_c85b76c90463row1_col1\" class=\"data row1 col1\" >3.4</td>\n",
       "                        <td id=\"T_da134082_b4ca_11ea_a488_c85b76c90463row1_col2\" class=\"data row1 col2\" >1.4</td>\n",
       "                        <td id=\"T_da134082_b4ca_11ea_a488_c85b76c90463row1_col3\" class=\"data row1 col3\" >0.3</td>\n",
       "                        <td id=\"T_da134082_b4ca_11ea_a488_c85b76c90463row1_col4\" class=\"data row1 col4\" >setosa</td>\n",
       "            </tr>\n",
       "            <tr>\n",
       "                        <th id=\"T_da134082_b4ca_11ea_a488_c85b76c90463level0_row2\" class=\"row_heading level0 row2\" >7</th>\n",
       "                        <td id=\"T_da134082_b4ca_11ea_a488_c85b76c90463row2_col0\" class=\"data row2 col0\" >5</td>\n",
       "                        <td id=\"T_da134082_b4ca_11ea_a488_c85b76c90463row2_col1\" class=\"data row2 col1\" >3.4</td>\n",
       "                        <td id=\"T_da134082_b4ca_11ea_a488_c85b76c90463row2_col2\" class=\"data row2 col2\" >1.5</td>\n",
       "                        <td id=\"T_da134082_b4ca_11ea_a488_c85b76c90463row2_col3\" class=\"data row2 col3\" >0.2</td>\n",
       "                        <td id=\"T_da134082_b4ca_11ea_a488_c85b76c90463row2_col4\" class=\"data row2 col4\" >setosa</td>\n",
       "            </tr>\n",
       "    </tbody></table>"
      ],
      "text/plain": [
       "<pandas.io.formats.style.Styler at 0x2213f90b748>"
      ]
     },
     "execution_count": 9,
     "metadata": {},
     "output_type": "execute_result"
    }
   ],
   "source": [
    "pp.df_colored(example_df, axis=0) #by row"
   ]
  },
  {
   "cell_type": "markdown",
   "metadata": {},
   "source": [
    "https://pypi.org/project/paniagua/"
   ]
  }
 ],
 "metadata": {
  "kernelspec": {
   "display_name": "Python 3",
   "language": "python",
   "name": "python3"
  },
  "language_info": {
   "codemirror_mode": {
    "name": "ipython",
    "version": 3
   },
   "file_extension": ".py",
   "mimetype": "text/x-python",
   "name": "python",
   "nbconvert_exporter": "python",
   "pygments_lexer": "ipython3",
   "version": "3.6.10"
  }
 },
 "nbformat": 4,
 "nbformat_minor": 2
}
