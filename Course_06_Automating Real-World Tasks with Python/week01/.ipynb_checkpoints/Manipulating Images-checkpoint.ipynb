{
 "cells": [
  {
   "cell_type": "markdown",
   "metadata": {},
   "source": [
    "# Manipulating Images"
   ]
  },
  {
   "cell_type": "code",
   "execution_count": 1,
   "metadata": {},
   "outputs": [],
   "source": [
    "#!/usr/bin/env python3\n",
    "\n",
    "# Google IT Automation with Python Professional Certificate\n",
    "# Elmo Allistair\n",
    "# 11 Agu 2020\n",
    "\n",
    "from PIL import Image\n",
    "from glob import glob\n",
    "import os\n",
    "\n",
    "# Note: put this script in images folder\n",
    "# Iterate through each file in the folder\n",
    "for file in glob('ic_*'): # ignore hidden file (images/.DS_Store) from iteration\n",
    "    image = Image.open(file).convert('RGB')\n",
    "    # print(image.format, image.size, image.mode) # test\n",
    "    \"\"\"\n",
    "    For each file:\n",
    "    1. Rotate the image 90° clockwise\n",
    "    2. Resize the image from 192x192 to 128x128\n",
    "    3. Save the image to a new folder in .jpeg format\n",
    "    \"\"\"\n",
    "    path, filename = os.path.split(file)\n",
    "    filename = os.path.splitext(filename)[0] # get filename without extension\n",
    "    image.rotate(270).resize((128,128)).save('/opt/icons/{}.jpeg'.format(filename))\n"
   ]
  }
 ],
 "metadata": {
  "kernelspec": {
   "display_name": "Python 3",
   "language": "python",
   "name": "python3"
  },
  "language_info": {
   "codemirror_mode": {
    "name": "ipython",
    "version": 3
   },
   "file_extension": ".py",
   "mimetype": "text/x-python",
   "name": "python",
   "nbconvert_exporter": "python",
   "pygments_lexer": "ipython3",
   "version": "3.7.6"
  }
 },
 "nbformat": 4,
 "nbformat_minor": 4
}
